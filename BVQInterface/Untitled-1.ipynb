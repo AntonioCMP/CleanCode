{
 "cells": [
  {
   "cell_type": "code",
   "execution_count": 1,
   "id": "23e132ff",
   "metadata": {},
   "outputs": [],
   "source": [
    "import scrapy\n",
    "from scrapy import Request"
   ]
  },
  {
   "cell_type": "code",
   "execution_count": null,
   "id": "f8c7fe53",
   "metadata": {},
   "outputs": [],
   "source": [
    "class Departamento(scrapy.Item):\n",
    "# Define aquí los campos que te interesen\n",
    "    nombre = scrapy.Field()\n",
    "    precio = scrapy.Field()\n",
    "    url = scrapy.Field()\n",
    "    direccion = scrapy.Field()\n",
    "    m2 = scrapy.Field()\n",
    "    habitaciones = scrapy.Field()\n",
    "    banos= scrapy.Field()\n",
    "    parqueo= scrapy.Field()\n",
    "    sector= scrapy.Field()\n",
    "    alicuota= scrapy.Field()\n",
    "\n",
    "class Plusvalia(scrapy.Spider):\n",
    "    name = 'Plusvalia'\n",
    "    allowed_domains = ['plusvalia.com']\n",
    "    # punto(s) de partida — páginas horizontales (categorías, menús)\n",
    "    start_urls = [\n",
    "    'https://www.example.com/categories',\n",
    "    # añadir más categorías o landing pages si aplica\n",
    "    ]\n",
    "    custom_settings = {\n",
    "    # Ajustes básicos (puedes moverlos a settings.py)\n",
    "    'CONCURRENT_REQUESTS': 8,\n",
    "    'DOWNLOAD_DELAY': 0.5,\n",
    "    'ROBOTSTXT_OBEY': True,\n",
    "    'USER_AGENT': 'Mozilla/5.0 (Windows NT 10.0; Win64; x64) AppleWebKit/537.36 (KHTML, like Gecko) Chrome/123.0.0.0 Safari/537.36'\n",
    "    }\n"
   ]
  },
  {
   "cell_type": "code",
   "execution_count": 4,
   "id": "eba72ca0",
   "metadata": {},
   "outputs": [],
   "source": [
    "from scrapy.spiders import Rule\n",
    "from scrapy.linkextractors import LinkExtractor"
   ]
  },
  {
   "cell_type": "code",
   "execution_count": null,
   "id": "a5ba83ac",
   "metadata": {},
   "outputs": [],
   "source": [
    "rules= {\n",
    "    Rule(\n",
    "        LinkExtractor(\n",
    "            allow=r'/'\n",
    "        ),follow=True,callback=\"parse_depa\"\n",
    "    )\n",
    "}"
   ]
  },
  {
   "cell_type": "code",
   "execution_count": 7,
   "id": "87a86394",
   "metadata": {},
   "outputs": [],
   "source": [
    "from scrapy.selector import Selector\n",
    "from scrapy.loader import ItemLoader"
   ]
  },
  {
   "cell_type": "code",
   "execution_count": null,
   "id": "e522008f",
   "metadata": {},
   "outputs": [],
   "source": [
    "def parse_depa(self,response):\n",
    "    sel= Selector(response)\n",
    "    item= ItemLoader(Departamento(),sel)\n",
    "    #item.add_xpath(\"nombre\",\"\")\n",
    "    item.add_xpath(\"precio\",'//*[@id=\"root\"]/div[2]/div/div/div[3]/div/div[2]/div[26]/div/div[1]/div[3]/div[1]/div/div[1]/div/div/div/div[1]/div')\n",
    "    #item.add_xpath(\"url\",\"\")\n",
    "    item.add_xpath(\"m2\",'//*[@id=\"root\"]/div[2]/div/div/div[3]/div/div[2]/div[26]/div/div[1]/div[3]/div[1]/div/div[3]/h3/span[1]')\n",
    "    item.add_xpath(\"direccion\",'//*[@id=\"root\"]/div[2]/div/div/div[3]/div/div[2]/div[26]/div/div[1]/div[3]/div[1]/div/div[2]/div/div')\n",
    "    //*[@id=\"root\"]/div[2]/div/div/div[3]/div/div[2]/div[26]/div/div[1]/div[3]/div[1]/div/div[2]/div/div\n",
    "    item.add_xpath(\"habitaciones\",'//*[@id=\"root\"]/div[2]/div/div/div[3]/div/div[2]/div[26]/div/div[1]/div[3]/div[1]/div/div[3]/h3/span[2]')\n",
    "    item.add_xpath(\"banos\",'//*[@id=\"root\"]/div[2]/div/div/div[3]/div/div[2]/div[26]/div/div[1]/div[3]/div[1]/div/div[3]/h3/span[3]')\n",
    "    item.add_xpath(\"parqueo\",'//*[@id=\"root\"]/div[2]/div/div/div[3]/div/div[2]/div[26]/div/div[1]/div[3]/div[1]/div/div[3]/h3/span[4]')\n",
    "    item.add_xpath(\"sector\",'//*[@id=\"root\"]/div[2]/div/div/div[3]/div/div[2]/div[26]/div/div[1]/div[3]/div[1]/div/div[2]/div/h2')\n",
    "    item.add_xpath(\"alicuota\",'//*[@id=\"root\"]/div[2]/div/div/div[3]/div/div[2]/div[26]/div/div[1]/div[3]/div[1]/div/div[1]/div/div/div/div[2]')\n",
    "    yield item.load_item()"
   ]
  },
  {
   "cell_type": "code",
   "execution_count": null,
   "id": "2a2d7eaf",
   "metadata": {},
   "outputs": [],
   "source": [
    "\n",
    "\n",
    "\n",
    "def parse(self, response):\n",
    "    \"\"\"\n",
    "    Parse horizontal: extrae enlaces a categorías/subcategorías y páginas de listado.\n",
    "    También puede extraer enlaces directos a productos si aparecen aquí.\n",
    "    \"\"\"\n",
    "# 1) Extraer enlaces a subcategorías (horizontalidad)\n",
    "    category_links = response.css('a.category-link::attr(href)').getall()\n",
    "    for href in category_links:\n",
    "        yield response.follow(href, callback=self.parse)\n",
    "\n",
    "\n",
    "# 2) Extraer páginas de listado dentro de la categoría (también horizontalidad)\n",
    "    list_links = response.css('a.listing-link::attr(href)').getall()\n",
    "    for href in list_links:\n",
    "        yield response.follow(href, callback=self.parse_list)\n",
    "\n",
    "\n",
    "# 3) Si hay productos directamente en esta página, seguir al detalle (verticalidad)\n",
    "    product_links = response.css('a.product-link::attr(href)').getall()\n",
    "    for href in product_links:\n",
    "        yield response.follow(href, callback=self.parse_detail)\n",
    "\n",
    "\n",
    "def parse_list(self, response):\n",
    "    \"\"\"\n",
    "    Parse páginas de listado: extrae items en esa página (links a detalle) y maneja paginación.\n",
    "    \"\"\"\n",
    "    # Extraer enlaces a productos (verticalidad)\n",
    "    product_links = response.css('a.product-link::attr(href)').getall()\n",
    "    for href in product_links:\n",
    "        yield response.follow(href, callback=self.parse_detail)\n",
    "\n",
    "\n",
    "    # --- PAGINACIÓN ---\n",
    "    # 1) Enlaces tipo 'siguiente'\n",
    "    next_page = response.css('a.next::attr(href)').get()\n",
    "    if next_page:\n",
    "        yield response.follow(next_page, callback=self.parse_list)\n",
    "\n",
    "\n",
    "# 2) Paginación con parámetros numéricos (?page=2)\n",
    "# Si quieres controlar hasta X páginas o detectar el último, puedes parsear el número\n",
    "# Ejemplo simple — extraer todos los enlaces numerados"
   ]
  }
 ],
 "metadata": {
  "kernelspec": {
   "display_name": "Python 3",
   "language": "python",
   "name": "python3"
  },
  "language_info": {
   "codemirror_mode": {
    "name": "ipython",
    "version": 3
   },
   "file_extension": ".py",
   "mimetype": "text/x-python",
   "name": "python",
   "nbconvert_exporter": "python",
   "pygments_lexer": "ipython3",
   "version": "3.12.2"
  }
 },
 "nbformat": 4,
 "nbformat_minor": 5
}
