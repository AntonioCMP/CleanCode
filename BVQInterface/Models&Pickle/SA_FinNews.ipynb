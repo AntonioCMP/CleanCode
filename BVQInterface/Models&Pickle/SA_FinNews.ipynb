{
 "cells": [
  {
   "cell_type": "code",
   "execution_count": 1,
   "id": "25700c73",
   "metadata": {},
   "outputs": [],
   "source": [
    "import datetime as dt\n",
    "import requests\n",
    "import pandas as pd\n",
    "import os\n",
    "from dotenv import load_dotenv\n",
    "from sklearn.model_selection import train_test_split\n",
    "from sklearn.utils import resample\n",
    "from nltk.corpus import stopwords\n",
    "from nltk.stem.porter import *\n",
    "import re\n",
    "from nltk.tokenize import word_tokenize\n",
    "from tensorflow.keras.preprocessing.text import Tokenizer\n",
    "from tensorflow.keras.preprocessing.sequence import pad_sequences\n",
    "from tensorflow.keras.models import Model\n",
    "from tensorflow.keras.layers import Embedding, Conv1D, MaxPooling1D, Bidirectional, LSTM, Dense, Dropout, GlobalMaxPooling1D, Attention, Input\n",
    "from tensorflow.keras.metrics import Precision, Recall\n",
    "import seaborn as sns\n",
    "from sklearn.metrics import confusion_matrix\n",
    "import numpy as np\n",
    "import matplotlib.pyplot as plt\n",
    "from tensorflow.keras.models import load_model\n",
    "import pickle"
   ]
  },
  {
   "cell_type": "code",
   "execution_count": null,
   "id": "8b98df37",
   "metadata": {},
   "outputs": [],
   "source": [
    "#The sample of news we will use to test of model\n",
    "df= pd.DataFrame({\"title\":['El 97 % del Oro Verde Portoviejo ya está construido y en junio abrirá su sistema de reservas',\n",
    "'Apertura comercial y nuevos mercados, termas que abordaron empresarios y el Ministro de Producción, en Quito',\n",
    "'En qué provincias de Ecuador ya mismo “muere” la televisión pagada: en siete años se perdieron cerca de 400 suscriptores por día',\n",
    "'Productores y compradores de café de especialidad negociaron sin intermediarios, en Imbabura',\n",
    "'Hasta finales de junio Ecuador busca cerrar negociación con Estados Unidos por arancel del 10 %',\n",
    "'Estas son las empresas privadas que proveen internet y servicios tecnológicos con más ingresos en Ecuador: Claro lidera el listado',\n",
    "'Seguros Equinoccial y Ecuatoriano Suiza concretan su integración en el mercado nacional',\n",
    "'FMI, Banco Mundial y BID están en Ecuador para “reforzar apoyo financiero y técnico ante inicio de nuevo periodo de gobierno”',\n",
    "'Televisión pagada: Presidente de Liga Pro apela a la unión de varios sectores paga combatir la piratería de contenidos',\n",
    "'Riesgo país vuelve a bajar por debajo de los 1.000 puntos']})"
   ]
  },
  {
   "cell_type": "code",
   "execution_count": 2,
   "id": "4f6fa406",
   "metadata": {},
   "outputs": [],
   "source": [
    "#The API that will give us the daily news\n",
    "load_dotenv(\"tokens.env\") \n",
    "API_KEY= os.getenv(\"API_KEY\")\n",
    "\n",
    "#Process the data and only keep the headers of the news\n",
    "data= requests.get(f'https://newsdata.io/api/1/latest?apikey={API_KEY}&q=ecuador&country=ec&category=business')\n",
    "data= data.json()\n",
    "\n"
   ]
  },
  {
   "cell_type": "code",
   "execution_count": 3,
   "id": "16183d69",
   "metadata": {},
   "outputs": [],
   "source": [
    "if data[\"status\"] != \"error\":\n",
    "    df= pd.DataFrame(data[\"results\"])\n",
    "    df.drop(columns=[\"keywords\",\"content\",\"image_url\",\"video_url\",\"source_icon\",\"language\",\"country\",\"sentiment\",\"sentiment_stats\",\"ai_tag\",\"ai_region\",\"ai_org\"],inplace=True)\n",
    "    df[\"title\"]\n",
    "else:\n",
    "    print(\"No funciono bien\")"
   ]
  },
  {
   "cell_type": "code",
   "execution_count": 4,
   "id": "e593690d",
   "metadata": {},
   "outputs": [],
   "source": [
    "from googletrans import Translator\n",
    "import time\n",
    "\n",
    "translator = Translator()\n",
    "\n",
    "#Function that translate the news and create a new column of the translated news\n",
    "def translate_text(text):\n",
    "    try:\n",
    "        time.sleep(1)\n",
    "        return translator.translate(text, src='es', dest='en').text\n",
    "    except Exception as e:\n",
    "        print(\"Error:\", e)\n",
    "        return \"\"\n",
    "\n",
    "df[\"title\"] = df[\"title\"].apply(translate_text)"
   ]
  },
  {
   "cell_type": "code",
   "execution_count": 5,
   "id": "c026ee13",
   "metadata": {},
   "outputs": [],
   "source": [
    "filtered= df[[\"article_id\",\"title\",\"link\",\"pubDate\"]]"
   ]
  },
  {
   "cell_type": "code",
   "execution_count": 6,
   "id": "216fe293",
   "metadata": {},
   "outputs": [],
   "source": [
    "header= {\n",
    "    \"Authorization\": \"Bearer EVENIF\"\n",
    "}"
   ]
  },
  {
   "cell_type": "code",
   "execution_count": 14,
   "id": "943ba1ca",
   "metadata": {},
   "outputs": [
    {
     "data": {
      "text/plain": [
       "0    a061dba76703f0e6789cd629adc60da4\n",
       "1    62b50ad4f606222e615ce8bd772cb488\n",
       "2    92b506dc2e205d74c2f695031e686c0d\n",
       "3    c585972e943b165915928712fe7b49bd\n",
       "4    7473ef273d337505af717488d8794481\n",
       "Name: article_id, dtype: object"
      ]
     },
     "execution_count": 14,
     "metadata": {},
     "output_type": "execute_result"
    }
   ],
   "source": [
    "filtered[\"article_id\"]"
   ]
  },
  {
   "cell_type": "code",
   "execution_count": 16,
   "id": "ade36348",
   "metadata": {},
   "outputs": [
    {
     "name": "stdout",
     "output_type": "stream",
     "text": [
      "200\n",
      "200\n",
      "200\n",
      "200\n",
      "200\n"
     ]
    }
   ],
   "source": [
    "for i in range(filtered.shape[0]):\n",
    "    final= {\"main\":{\n",
    "                \"articleid\":filtered[\"article_id\"].to_list()[i],\n",
    "                \"title\":filtered[\"title\"].to_list()[i],\n",
    "                \"link\":filtered[\"link\"].to_list()[i],\n",
    "                \"pubDate\":filtered[\"pubDate\"].to_list()[i],\n",
    "                },\n",
    "            }\n",
    "    response= requests.post(\"https://api.sheety.co/dd0fd7bbef359aae1247a81f76b6d24f/dataBfn/main\",json=final,headers=header)\n",
    "    print(response.status_code)"
   ]
  },
  {
   "cell_type": "code",
   "execution_count": 6,
   "id": "71223875",
   "metadata": {},
   "outputs": [],
   "source": [
    "from googletrans import Translator\n",
    "import time\n",
    "\n",
    "translator = Translator()\n",
    "\n",
    "#Function that translate the news and create a new column of the translated news\n",
    "def translate_text(text):\n",
    "    try:\n",
    "        time.sleep(1)\n",
    "        return translator.translate(text, src='es', dest='en').text\n",
    "    except Exception as e:\n",
    "        print(\"Error:\", e)\n",
    "        return \"\"\n",
    "\n",
    "df[\"title_en\"] = df[\"title\"].apply(translate_text)"
   ]
  },
  {
   "cell_type": "code",
   "execution_count": null,
   "id": "cd967d4a",
   "metadata": {},
   "outputs": [],
   "source": [
    "#Import the data\n",
    "MAIN_RT= 'D:\\\\DatosFN'\n",
    "\n",
    "data= pd.read_csv(f\"{MAIN_RT}\\\\all-data.csv\",encoding=\"latin1\")\n",
    "data2= pd.read_csv(f\"{MAIN_RT}\\\\data.csv\",encoding=\"latin1\")"
   ]
  },
  {
   "cell_type": "code",
   "execution_count": 3,
   "id": "1e054ee2",
   "metadata": {},
   "outputs": [
    {
     "name": "stdout",
     "output_type": "stream",
     "text": [
      "(4845, 2)\n",
      "['neutral' 'negative' 'positive']\n",
      "(5842, 2)\n",
      "['positive' 'negative' 'neutral']\n"
     ]
    }
   ],
   "source": [
    "print(data.shape)\n",
    "print(data[\"neutral\"].unique())\n",
    "print(data2.shape)\n",
    "print(data2[\"Sentiment\"].unique())"
   ]
  },
  {
   "cell_type": "code",
   "execution_count": null,
   "id": "7463731d",
   "metadata": {},
   "outputs": [],
   "source": [
    "#Clean the dataframe\n",
    "data.drop_duplicates(inplace=True)\n",
    "data.dropna(inplace=True)\n",
    "data2.drop_duplicates(inplace=True)\n",
    "data2.dropna(inplace=True)\n",
    "data.columns= [\"Sentiment\",\"Sentence\"]\n",
    "dtf= pd.concat([data2,data])"
   ]
  },
  {
   "cell_type": "code",
   "execution_count": null,
   "id": "e822ffe0",
   "metadata": {},
   "outputs": [],
   "source": [
    "\n",
    "# Resample each class with the value of the minoritary class\n",
    "min_count = min(len(dtf[dtf[\"Sentiment\"] == s]) for s in [\"neutral\", \"positive\", \"negative\"])\n",
    "dtf = pd.concat([\n",
    "    resample(dtf[dtf[\"Sentiment\"] == \"neutral\"], replace=False, n_samples=min_count, random_state=1),\n",
    "    resample(dtf[dtf[\"Sentiment\"] == \"positive\"], replace=False, n_samples=min_count, random_state=1),\n",
    "    resample(dtf[dtf[\"Sentiment\"] == \"negative\"], replace=False, n_samples=min_count, random_state=1)\n",
    "])"
   ]
  },
  {
   "cell_type": "code",
   "execution_count": 11,
   "id": "d1e5b32e",
   "metadata": {},
   "outputs": [
    {
     "name": "stderr",
     "output_type": "stream",
     "text": [
      "[nltk_data] Downloading package stopwords to C:\\Users\\tolgu.LAPTOP-\n",
      "[nltk_data]     6G833A4V\\AppData\\Roaming\\nltk_data...\n",
      "[nltk_data]   Package stopwords is already up-to-date!\n",
      "[nltk_data] Downloading package punkt_tab to C:\\Users\\tolgu.LAPTOP-\n",
      "[nltk_data]     6G833A4V\\AppData\\Roaming\\nltk_data...\n",
      "[nltk_data]   Unzipping tokenizers\\punkt_tab.zip.\n"
     ]
    },
    {
     "data": {
      "text/plain": [
       "True"
      ]
     },
     "execution_count": 11,
     "metadata": {},
     "output_type": "execute_result"
    }
   ],
   "source": [
    "#ONLY download once if you are using your own enviroment\n",
    "import nltk\n",
    "nltk.download('stopwords')\n",
    "nltk.download('punkt_tab')"
   ]
  },
  {
   "cell_type": "code",
   "execution_count": 19,
   "id": "c73ddc9a",
   "metadata": {},
   "outputs": [],
   "source": [
    "#Transform all the words to the basic form with PorterStemmer, eliminating stopwords and tokenizing each\n",
    "\n",
    "stop_words = set(stopwords.words(\"english\"))\n",
    "def basicalizer(text):\n",
    "    text = text.lower()\n",
    "    text = re.sub(r'[^a-z\\s]', '', text)\n",
    "    words = word_tokenize(text)\n",
    "    words = [w for w in words if w not in stop_words]\n",
    "    words = [PorterStemmer().stem(w) for w in words]\n",
    "    return ' '.join(words)"
   ]
  },
  {
   "cell_type": "code",
   "execution_count": null,
   "id": "2ed3232b",
   "metadata": {},
   "outputs": [],
   "source": [
    "#One hot encode the sentiments\n",
    "y= pd.get_dummies(dtf[\"Sentiment\"])"
   ]
  },
  {
   "cell_type": "code",
   "execution_count": null,
   "id": "3dfc6e5c",
   "metadata": {},
   "outputs": [],
   "source": [
    "#Tokenize again and make pad_sequences of words\n",
    "tokenizer = Tokenizer(num_words=5000)\n",
    "tokenizer.fit_on_texts(dtf[\"Sentence\"])\n",
    "\n",
    "X = tokenizer.texts_to_sequences(dtf[\"Sentence\"])\n",
    "X = pad_sequences(X, padding='post', maxlen=50)"
   ]
  },
  {
   "cell_type": "code",
   "execution_count": null,
   "id": "b0b1480b",
   "metadata": {},
   "outputs": [
    {
     "name": "stdout",
     "output_type": "stream",
     "text": [
      "Train Set -> (2805, 50) (2805, 3)\n",
      "Validation Set -> (935, 50) (935, 3)\n",
      "Test Set -> (935, 50) (935, 3)\n"
     ]
    }
   ],
   "source": [
    "#Train test split to measure how good the model is performing\n",
    "X_train, X_test, y_train, y_test = train_test_split(X, y, test_size=0.2, random_state=1, stratify=y)\n",
    "X_train, X_val, y_train, y_val = train_test_split(X_train, y_train, test_size=0.25, random_state=1, stratify=y_train)\n",
    "print('Train Set ->', X_train.shape, y_train.shape)\n",
    "print('Validation Set ->', X_val.shape, y_val.shape)\n",
    "print('Test Set ->', X_test.shape, y_test.shape)"
   ]
  },
  {
   "cell_type": "code",
   "execution_count": null,
   "id": "6c83e6e8",
   "metadata": {},
   "outputs": [],
   "source": [
    "#A model using embedding and CNN,BLSTM and attention to foucs in the semantic meaning of words\n",
    "inputs = Input(shape=(50,))\n",
    "x = Embedding(input_dim=5000, output_dim=100)(inputs)\n",
    "x = Conv1D(64, kernel_size=3, activation='relu')(x)\n",
    "x = MaxPooling1D(pool_size=2)(x)\n",
    "x = Bidirectional(LSTM(64, return_sequences=True))(x)\n",
    "att = Attention()([x, x])\n",
    "x = GlobalMaxPooling1D()(att)\n",
    "x = Dense(64, activation='relu')(x)\n",
    "x = Dropout(0.5)(x)\n",
    "outputs = Dense(3, activation='softmax')(x)\n",
    "\n",
    "model = Model(inputs=inputs, outputs=outputs)"
   ]
  },
  {
   "cell_type": "code",
   "execution_count": null,
   "id": "a32db9a0",
   "metadata": {},
   "outputs": [
    {
     "name": "stdout",
     "output_type": "stream",
     "text": [
      "Epoch 1/30\n",
      "\u001b[1m44/44\u001b[0m \u001b[32m━━━━━━━━━━━━━━━━━━━━\u001b[0m\u001b[37m\u001b[0m \u001b[1m9s\u001b[0m 62ms/step - accuracy: 0.3774 - loss: 1.0957 - precision: 0.1508 - recall: 8.6972e-04 - val_accuracy: 0.4513 - val_loss: 1.0578 - val_precision: 0.5407 - val_recall: 0.0781\n",
      "Epoch 2/30\n",
      "\u001b[1m44/44\u001b[0m \u001b[32m━━━━━━━━━━━━━━━━━━━━\u001b[0m\u001b[37m\u001b[0m \u001b[1m2s\u001b[0m 41ms/step - accuracy: 0.5040 - loss: 0.9673 - precision: 0.6099 - recall: 0.2297 - val_accuracy: 0.5176 - val_loss: 0.9226 - val_precision: 0.6267 - val_recall: 0.2909\n",
      "Epoch 3/30\n",
      "\u001b[1m44/44\u001b[0m \u001b[32m━━━━━━━━━━━━━━━━━━━━\u001b[0m\u001b[37m\u001b[0m \u001b[1m2s\u001b[0m 39ms/step - accuracy: 0.5815 - loss: 0.7534 - precision: 0.6222 - recall: 0.4759 - val_accuracy: 0.5294 - val_loss: 0.9242 - val_precision: 0.5977 - val_recall: 0.3829\n",
      "Epoch 4/30\n",
      "\u001b[1m44/44\u001b[0m \u001b[32m━━━━━━━━━━━━━━━━━━━━\u001b[0m\u001b[37m\u001b[0m \u001b[1m2s\u001b[0m 38ms/step - accuracy: 0.6541 - loss: 0.6747 - precision: 0.6781 - recall: 0.5762 - val_accuracy: 0.5529 - val_loss: 0.9451 - val_precision: 0.5731 - val_recall: 0.4738\n",
      "Epoch 5/30\n",
      "\u001b[1m44/44\u001b[0m \u001b[32m━━━━━━━━━━━━━━━━━━━━\u001b[0m\u001b[37m\u001b[0m \u001b[1m2s\u001b[0m 39ms/step - accuracy: 0.7199 - loss: 0.6118 - precision: 0.7317 - recall: 0.6671 - val_accuracy: 0.6107 - val_loss: 1.0484 - val_precision: 0.6150 - val_recall: 0.5979\n",
      "Epoch 6/30\n",
      "\u001b[1m44/44\u001b[0m \u001b[32m━━━━━━━━━━━━━━━━━━━━\u001b[0m\u001b[37m\u001b[0m \u001b[1m2s\u001b[0m 38ms/step - accuracy: 0.8454 - loss: 0.4299 - precision: 0.8494 - recall: 0.8365 - val_accuracy: 0.6460 - val_loss: 1.1501 - val_precision: 0.6536 - val_recall: 0.6396\n",
      "Epoch 7/30\n",
      "\u001b[1m44/44\u001b[0m \u001b[32m━━━━━━━━━━━━━━━━━━━━\u001b[0m\u001b[37m\u001b[0m \u001b[1m2s\u001b[0m 39ms/step - accuracy: 0.9062 - loss: 0.2956 - precision: 0.9064 - recall: 0.9012 - val_accuracy: 0.6492 - val_loss: 1.2773 - val_precision: 0.6529 - val_recall: 0.6439\n",
      "Epoch 8/30\n",
      "\u001b[1m44/44\u001b[0m \u001b[32m━━━━━━━━━━━━━━━━━━━━\u001b[0m\u001b[37m\u001b[0m \u001b[1m2s\u001b[0m 39ms/step - accuracy: 0.9215 - loss: 0.2426 - precision: 0.9240 - recall: 0.9182 - val_accuracy: 0.6246 - val_loss: 1.2768 - val_precision: 0.6283 - val_recall: 0.6128\n",
      "Epoch 9/30\n",
      "\u001b[1m44/44\u001b[0m \u001b[32m━━━━━━━━━━━━━━━━━━━━\u001b[0m\u001b[37m\u001b[0m \u001b[1m2s\u001b[0m 39ms/step - accuracy: 0.9198 - loss: 0.2378 - precision: 0.9228 - recall: 0.9159 - val_accuracy: 0.6545 - val_loss: 1.3684 - val_precision: 0.6559 - val_recall: 0.6524\n",
      "Epoch 10/30\n",
      "\u001b[1m44/44\u001b[0m \u001b[32m━━━━━━━━━━━━━━━━━━━━\u001b[0m\u001b[37m\u001b[0m \u001b[1m2s\u001b[0m 41ms/step - accuracy: 0.9362 - loss: 0.1827 - precision: 0.9368 - recall: 0.9351 - val_accuracy: 0.6567 - val_loss: 1.5746 - val_precision: 0.6602 - val_recall: 0.6524\n",
      "Epoch 11/30\n",
      "\u001b[1m44/44\u001b[0m \u001b[32m━━━━━━━━━━━━━━━━━━━━\u001b[0m\u001b[37m\u001b[0m \u001b[1m2s\u001b[0m 41ms/step - accuracy: 0.9405 - loss: 0.1701 - precision: 0.9416 - recall: 0.9394 - val_accuracy: 0.6385 - val_loss: 1.6669 - val_precision: 0.6403 - val_recall: 0.6321\n",
      "Epoch 12/30\n",
      "\u001b[1m44/44\u001b[0m \u001b[32m━━━━━━━━━━━━━━━━━━━━\u001b[0m\u001b[37m\u001b[0m \u001b[1m2s\u001b[0m 39ms/step - accuracy: 0.9470 - loss: 0.1567 - precision: 0.9475 - recall: 0.9467 - val_accuracy: 0.6299 - val_loss: 1.7363 - val_precision: 0.6332 - val_recall: 0.6278\n",
      "Epoch 13/30\n",
      "\u001b[1m44/44\u001b[0m \u001b[32m━━━━━━━━━━━━━━━━━━━━\u001b[0m\u001b[37m\u001b[0m \u001b[1m2s\u001b[0m 39ms/step - accuracy: 0.9350 - loss: 0.1803 - precision: 0.9366 - recall: 0.9313 - val_accuracy: 0.6396 - val_loss: 1.6931 - val_precision: 0.6394 - val_recall: 0.6353\n",
      "Epoch 14/30\n",
      "\u001b[1m44/44\u001b[0m \u001b[32m━━━━━━━━━━━━━━━━━━━━\u001b[0m\u001b[37m\u001b[0m \u001b[1m2s\u001b[0m 39ms/step - accuracy: 0.9495 - loss: 0.1405 - precision: 0.9495 - recall: 0.9490 - val_accuracy: 0.6353 - val_loss: 1.6630 - val_precision: 0.6403 - val_recall: 0.6321\n",
      "Epoch 15/30\n",
      "\u001b[1m44/44\u001b[0m \u001b[32m━━━━━━━━━━━━━━━━━━━━\u001b[0m\u001b[37m\u001b[0m \u001b[1m2s\u001b[0m 40ms/step - accuracy: 0.9415 - loss: 0.1450 - precision: 0.9433 - recall: 0.9409 - val_accuracy: 0.6439 - val_loss: 1.9288 - val_precision: 0.6448 - val_recall: 0.6406\n",
      "Epoch 16/30\n",
      "\u001b[1m44/44\u001b[0m \u001b[32m━━━━━━━━━━━━━━━━━━━━\u001b[0m\u001b[37m\u001b[0m \u001b[1m2s\u001b[0m 40ms/step - accuracy: 0.9516 - loss: 0.1273 - precision: 0.9516 - recall: 0.9515 - val_accuracy: 0.6396 - val_loss: 1.9654 - val_precision: 0.6429 - val_recall: 0.6374\n",
      "Epoch 17/30\n",
      "\u001b[1m44/44\u001b[0m \u001b[32m━━━━━━━━━━━━━━━━━━━━\u001b[0m\u001b[37m\u001b[0m \u001b[1m2s\u001b[0m 39ms/step - accuracy: 0.9379 - loss: 0.1392 - precision: 0.9393 - recall: 0.9373 - val_accuracy: 0.6406 - val_loss: 2.1271 - val_precision: 0.6461 - val_recall: 0.6385\n",
      "Epoch 18/30\n",
      "\u001b[1m44/44\u001b[0m \u001b[32m━━━━━━━━━━━━━━━━━━━━\u001b[0m\u001b[37m\u001b[0m \u001b[1m2s\u001b[0m 40ms/step - accuracy: 0.9429 - loss: 0.1271 - precision: 0.9429 - recall: 0.9429 - val_accuracy: 0.6332 - val_loss: 2.1883 - val_precision: 0.6358 - val_recall: 0.6310\n",
      "Epoch 19/30\n",
      "\u001b[1m44/44\u001b[0m \u001b[32m━━━━━━━━━━━━━━━━━━━━\u001b[0m\u001b[37m\u001b[0m \u001b[1m2s\u001b[0m 38ms/step - accuracy: 0.9485 - loss: 0.1194 - precision: 0.9490 - recall: 0.9481 - val_accuracy: 0.6417 - val_loss: 2.2648 - val_precision: 0.6422 - val_recall: 0.6374\n",
      "Epoch 20/30\n",
      "\u001b[1m44/44\u001b[0m \u001b[32m━━━━━━━━━━━━━━━━━━━━\u001b[0m\u001b[37m\u001b[0m \u001b[1m2s\u001b[0m 39ms/step - accuracy: 0.9387 - loss: 0.1206 - precision: 0.9388 - recall: 0.9373 - val_accuracy: 0.6364 - val_loss: 2.1515 - val_precision: 0.6408 - val_recall: 0.6278\n",
      "Epoch 21/30\n",
      "\u001b[1m44/44\u001b[0m \u001b[32m━━━━━━━━━━━━━━━━━━━━\u001b[0m\u001b[37m\u001b[0m \u001b[1m2s\u001b[0m 41ms/step - accuracy: 0.9432 - loss: 0.1305 - precision: 0.9461 - recall: 0.9414 - val_accuracy: 0.6449 - val_loss: 2.2456 - val_precision: 0.6482 - val_recall: 0.6385\n",
      "Epoch 22/30\n",
      "\u001b[1m44/44\u001b[0m \u001b[32m━━━━━━━━━━━━━━━━━━━━\u001b[0m\u001b[37m\u001b[0m \u001b[1m2s\u001b[0m 39ms/step - accuracy: 0.9443 - loss: 0.1247 - precision: 0.9447 - recall: 0.9434 - val_accuracy: 0.6353 - val_loss: 2.0415 - val_precision: 0.6395 - val_recall: 0.6299\n",
      "Epoch 23/30\n",
      "\u001b[1m44/44\u001b[0m \u001b[32m━━━━━━━━━━━━━━━━━━━━\u001b[0m\u001b[37m\u001b[0m \u001b[1m2s\u001b[0m 39ms/step - accuracy: 0.9328 - loss: 0.1428 - precision: 0.9369 - recall: 0.9267 - val_accuracy: 0.6321 - val_loss: 2.2919 - val_precision: 0.6395 - val_recall: 0.6299\n",
      "Epoch 24/30\n",
      "\u001b[1m44/44\u001b[0m \u001b[32m━━━━━━━━━━━━━━━━━━━━\u001b[0m\u001b[37m\u001b[0m \u001b[1m2s\u001b[0m 40ms/step - accuracy: 0.9452 - loss: 0.1200 - precision: 0.9460 - recall: 0.9451 - val_accuracy: 0.6332 - val_loss: 2.2389 - val_precision: 0.6350 - val_recall: 0.6289\n",
      "Epoch 25/30\n",
      "\u001b[1m44/44\u001b[0m \u001b[32m━━━━━━━━━━━━━━━━━━━━\u001b[0m\u001b[37m\u001b[0m \u001b[1m2s\u001b[0m 41ms/step - accuracy: 0.9492 - loss: 0.1104 - precision: 0.9493 - recall: 0.9476 - val_accuracy: 0.6396 - val_loss: 2.2787 - val_precision: 0.6419 - val_recall: 0.6364\n",
      "Epoch 26/30\n",
      "\u001b[1m44/44\u001b[0m \u001b[32m━━━━━━━━━━━━━━━━━━━━\u001b[0m\u001b[37m\u001b[0m \u001b[1m2s\u001b[0m 43ms/step - accuracy: 0.9481 - loss: 0.1161 - precision: 0.9485 - recall: 0.9472 - val_accuracy: 0.6460 - val_loss: 2.4427 - val_precision: 0.6497 - val_recall: 0.6428\n",
      "Epoch 27/30\n",
      "\u001b[1m44/44\u001b[0m \u001b[32m━━━━━━━━━━━━━━━━━━━━\u001b[0m\u001b[37m\u001b[0m \u001b[1m2s\u001b[0m 39ms/step - accuracy: 0.9489 - loss: 0.1134 - precision: 0.9497 - recall: 0.9472 - val_accuracy: 0.6503 - val_loss: 2.2584 - val_precision: 0.6533 - val_recall: 0.6449\n",
      "Epoch 28/30\n",
      "\u001b[1m44/44\u001b[0m \u001b[32m━━━━━━━━━━━━━━━━━━━━\u001b[0m\u001b[37m\u001b[0m \u001b[1m2s\u001b[0m 39ms/step - accuracy: 0.9437 - loss: 0.1167 - precision: 0.9444 - recall: 0.9428 - val_accuracy: 0.6503 - val_loss: 2.3020 - val_precision: 0.6502 - val_recall: 0.6460\n",
      "Epoch 29/30\n",
      "\u001b[1m44/44\u001b[0m \u001b[32m━━━━━━━━━━━━━━━━━━━━\u001b[0m\u001b[37m\u001b[0m \u001b[1m2s\u001b[0m 41ms/step - accuracy: 0.9486 - loss: 0.1038 - precision: 0.9490 - recall: 0.9476 - val_accuracy: 0.6449 - val_loss: 2.4348 - val_precision: 0.6476 - val_recall: 0.6428\n",
      "Epoch 30/30\n",
      "\u001b[1m44/44\u001b[0m \u001b[32m━━━━━━━━━━━━━━━━━━━━\u001b[0m\u001b[37m\u001b[0m \u001b[1m2s\u001b[0m 42ms/step - accuracy: 0.9447 - loss: 0.1094 - precision: 0.9464 - recall: 0.9440 - val_accuracy: 0.6460 - val_loss: 2.1891 - val_precision: 0.6521 - val_recall: 0.6374\n",
      "\n",
      "Test Metrics:\n",
      "Accuracy  : 0.6717\n",
      "Precision : 0.6747\n",
      "Recall    : 0.6610\n"
     ]
    }
   ],
   "source": [
    "#Train the model with adam and writing down the result of the performance\n",
    "model.compile(loss='categorical_crossentropy', optimizer='adam',\n",
    "              metrics=['accuracy', Precision(), Recall()])\n",
    "\n",
    "history = model.fit(X_train, y_train,\n",
    "                    validation_data=(X_val, y_val),\n",
    "                    batch_size=64, epochs=30, verbose=1)\n",
    "\n",
    "loss, accuracy, precision, recall = model.evaluate(X_test, y_test, verbose=0)\n",
    "\n",
    "print(\"\\nTest Metrics:\")\n",
    "print(f\"Accuracy  : {accuracy:.4f}\")\n",
    "print(f\"Precision : {precision:.4f}\")\n",
    "print(f\"Recall    : {recall:.4f}\")"
   ]
  },
  {
   "cell_type": "code",
   "execution_count": null,
   "id": "55f2ee63",
   "metadata": {},
   "outputs": [
    {
     "name": "stdout",
     "output_type": "stream",
     "text": [
      "\u001b[1m67/67\u001b[0m \u001b[32m━━━━━━━━━━━━━━━━━━━━\u001b[0m\u001b[37m\u001b[0m \u001b[1m0s\u001b[0m 6ms/step\n"
     ]
    },
    {
     "data": {
      "image/png": "[encoded data removed]",
      "text/plain": [
       "<Figure size 800x600 with 2 Axes>"
      ]
     },
     "metadata": {},
     "output_type": "display_data"
    }
   ],
   "source": [
    "\n",
    "\n",
    "def plot_confusion_matrix(model, X_test, y_test):\n",
    "    \n",
    "    sentiment_classes = ['Negative', 'Neutral', 'Positive']\n",
    "    y_pred = model.predict(X_test)\n",
    "    cm = confusion_matrix(np.argmax(np.array(y_test),axis=1), np.argmax(y_pred, axis=1))\n",
    "    plt.figure(figsize=(8,6))\n",
    "    sns.heatmap(cm, cmap=plt.cm.Blues, annot=True, fmt='d', \n",
    "                xticklabels=sentiment_classes,\n",
    "                yticklabels=sentiment_classes)\n",
    "    plt.title('Confusion matrix', fontsize=16)\n",
    "    plt.xlabel('Actual label', fontsize=12)\n",
    "    plt.ylabel('Predicted label', fontsize=12)\n",
    "    \n",
    "plot_confusion_matrix(model, X_test, y_test)"
   ]
  },
  {
   "cell_type": "code",
   "execution_count": 9,
   "id": "28418b5a",
   "metadata": {},
   "outputs": [
    {
     "name": "stderr",
     "output_type": "stream",
     "text": [
      "WARNING:absl:Compiled the loaded model, but the compiled metrics have yet to be built. `model.compile_metrics` will be empty until you train or evaluate the model.\n"
     ]
    }
   ],
   "source": [
    "model = load_model(\"D:\\\\DocumentosI\\\\NGE\\\\NGE3.0+1.0\\\\The grid\\\\SA_FinancialNews.h5\")\n",
    "\n",
    "with open(\"tokenizer.pickle\", \"rb\") as handle:\n",
    "    tokenizer = pickle.load(handle)"
   ]
  },
  {
   "cell_type": "code",
   "execution_count": 18,
   "id": "ba4239e7",
   "metadata": {},
   "outputs": [
    {
     "data": {
      "text/plain": [
       "'$ 20 tariff for imports under the 4x4 regime adds backs from productive sectors'"
      ]
     },
     "execution_count": 18,
     "metadata": {},
     "output_type": "execute_result"
    }
   ],
   "source": [
    "df[\"title_en\"].iloc[0]"
   ]
  },
  {
   "cell_type": "code",
   "execution_count": 20,
   "id": "fb3d2e68",
   "metadata": {},
   "outputs": [
    {
     "name": "stdout",
     "output_type": "stream",
     "text": [
      "\u001b[1m1/1\u001b[0m \u001b[32m━━━━━━━━━━━━━━━━━━━━\u001b[0m\u001b[37m\u001b[0m \u001b[1m3s\u001b[0m 3s/step\n"
     ]
    }
   ],
   "source": [
    "df[\"clean_text\"] = df[\"title_en\"].apply(basicalizer)\n",
    "\n",
    "# Tokeniza y pad\n",
    "seqs = tokenizer.texts_to_sequences(df[\"clean_text\"])\n",
    "padded_seqs = pad_sequences(seqs, maxlen=50, padding='post')\n",
    "\n",
    "# Predice\n",
    "preds = model.predict(padded_seqs)\n",
    "df[\"pred_class\"] = preds.argmax(axis=1)\n",
    "\n",
    "# Etiquetas humanas\n",
    "label_map = {0: \"neutral\", 1: \"positive\", 2: \"negative\"}\n",
    "df[\"sentiment\"] = df[\"pred_class\"].map(label_map)"
   ]
  },
  {
   "cell_type": "code",
   "execution_count": 23,
   "id": "bd5c6cc0",
   "metadata": {},
   "outputs": [
    {
     "data": {
      "text/html": [
       "<div>\n",
       "<style scoped>\n",
       "    .dataframe tbody tr th:only-of-type {\n",
       "        vertical-align: middle;\n",
       "    }\n",
       "\n",
       "    .dataframe tbody tr th {\n",
       "        vertical-align: top;\n",
       "    }\n",
       "\n",
       "    .dataframe thead th {\n",
       "        text-align: right;\n",
       "    }\n",
       "</style>\n",
       "<table border=\"1\" class=\"dataframe\">\n",
       "  <thead>\n",
       "    <tr style=\"text-align: right;\">\n",
       "      <th></th>\n",
       "      <th>title</th>\n",
       "      <th>sentiment</th>\n",
       "    </tr>\n",
       "  </thead>\n",
       "  <tbody>\n",
       "    <tr>\n",
       "      <th>0</th>\n",
       "      <td>Arancel de $ 20 para importaciones bajo el ré...</td>\n",
       "      <td>neutral</td>\n",
       "    </tr>\n",
       "    <tr>\n",
       "      <th>1</th>\n",
       "      <td>Inversiones mineras: Hasta $ 53 millones al an...</td>\n",
       "      <td>neutral</td>\n",
       "    </tr>\n",
       "    <tr>\n",
       "      <th>2</th>\n",
       "      <td>Aceptada demanda a resolución que dispone no ...</td>\n",
       "      <td>neutral</td>\n",
       "    </tr>\n",
       "    <tr>\n",
       "      <th>3</th>\n",
       "      <td>Couriers no dan información de forma de cobro...</td>\n",
       "      <td>neutral</td>\n",
       "    </tr>\n",
       "    <tr>\n",
       "      <th>4</th>\n",
       "      <td>Régimen 4x4: Compras de Temu, Shein, Amazon y...</td>\n",
       "      <td>positive</td>\n",
       "    </tr>\n",
       "  </tbody>\n",
       "</table>\n",
       "</div>"
      ],
      "text/plain": [
       "                                               title sentiment\n",
       "0  Arancel de $ 20 para importaciones bajo el ré...   neutral\n",
       "1  Inversiones mineras: Hasta $ 53 millones al an...   neutral\n",
       "2  Aceptada demanda a resolución que dispone no ...   neutral\n",
       "3  Couriers no dan información de forma de cobro...   neutral\n",
       "4  Régimen 4x4: Compras de Temu, Shein, Amazon y...  positive"
      ]
     },
     "execution_count": 23,
     "metadata": {},
     "output_type": "execute_result"
    }
   ],
   "source": [
    "df[[\"title\",\"sentiment\"]].head()"
   ]
  },
  {
   "cell_type": "code",
   "execution_count": null,
   "id": "6c39bd51",
   "metadata": {},
   "outputs": [],
   "source": [
    "model.save(\"SA_FinNews.h5\")"
   ]
  }
 ],
 "metadata": {
  "kernelspec": {
   "display_name": ".venv",
   "language": "python",
   "name": "python3"
  },
  "language_info": {
   "codemirror_mode": {
    "name": "ipython",
    "version": 3
   },
   "file_extension": ".py",
   "mimetype": "text/x-python",
   "name": "python",
   "nbconvert_exporter": "python",
   "pygments_lexer": "ipython3",
   "version": "3.12.2"
  }
 },
 "nbformat": 4,
 "nbformat_minor": 5
}
